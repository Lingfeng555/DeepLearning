{
 "cells": [
  {
   "cell_type": "code",
   "execution_count": null,
   "metadata": {},
   "outputs": [],
   "source": [
    "import pandas as pd\n",
    "from typing import Literal\n",
    "import os\n",
    "import torch\n",
    "import torch.nn as nn\n",
    "import torch.nn.functional as F\n",
    "from torch.utils.data import Dataset, DataLoader\n",
    "from sklearn.model_selection import train_test_split\n",
    "from sklearn.preprocessing import MinMaxScaler\n",
    "\n",
    "from utils.loader import MovieLensDataset\n",
    "from arquitecture.UserDataMLP import UserDataMLP\n",
    "SEED = 55"
   ]
  },
  {
   "cell_type": "code",
   "execution_count": 2,
   "metadata": {},
   "outputs": [
    {
     "data": {
      "text/plain": [
       "tensor([1.0000, 0.5024, 0.1627, 0.1675, 0.9378, 0.2871, 0.0048, 0.6986, 0.0144,\n",
       "        0.0813, 0.1675, 0.1340, 0.1722, 0.3780, 0.4785, 0.7225, 0.2297, 0.1053,\n",
       "        0.0000], dtype=torch.float64)"
      ]
     },
     "execution_count": 2,
     "metadata": {},
     "output_type": "execute_result"
    }
   ],
   "source": [
    "dataset = MovieLensDataset(ml_path=\"ml-100k\", split=\"test\", seed=SEED)\n",
    "user_data, train_tensor, test_tensor = dataset.__getitem__(11)\n",
    "test_tensor"
   ]
  },
  {
   "cell_type": "code",
   "execution_count": 3,
   "metadata": {},
   "outputs": [
    {
     "name": "stdout",
     "output_type": "stream",
     "text": [
      "user_data shape: torch.Size([23])\n",
      "train_tensor shape: torch.Size([19, 22])\n",
      "test_tensor shape: torch.Size([19])\n"
     ]
    }
   ],
   "source": [
    "print(f\"user_data shape: {user_data.size()}\")\n",
    "print(f\"train_tensor shape: {train_tensor.size()}\")\n",
    "print(f\"test_tensor shape: {test_tensor.size()}\")"
   ]
  }
 ],
 "metadata": {
  "kernelspec": {
   "display_name": "pytorch",
   "language": "python",
   "name": "python3"
  },
  "language_info": {
   "codemirror_mode": {
    "name": "ipython",
    "version": 3
   },
   "file_extension": ".py",
   "mimetype": "text/x-python",
   "name": "python",
   "nbconvert_exporter": "python",
   "pygments_lexer": "ipython3",
   "version": "3.12.3"
  }
 },
 "nbformat": 4,
 "nbformat_minor": 2
}
